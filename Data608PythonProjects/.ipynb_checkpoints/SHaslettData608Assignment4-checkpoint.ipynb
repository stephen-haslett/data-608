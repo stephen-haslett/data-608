{
 "cells": [
  {
   "cell_type": "markdown",
   "metadata": {
    "collapsed": true
   },
   "source": [
    "### Data 608 Assignment Four - New York City Tree Census Dash App\n",
    "#### Stephen Haslett\n",
    "#### 10/05/2021"
   ]
  },
  {
   "cell_type": "markdown",
   "metadata": {},
   "source": [
    "### Assignment Overview\n",
    "Build a dash app for a arborist studying the health of various tree species (as defined by the\n",
    "variable ‘spc_common’) across each borough (defined by the variable ‘borough’). This\n",
    "arborist would like to answer the following two questions for each species and in each\n",
    "borough:\n",
    "\n",
    "1. What proportion of trees are in good, fair, or poor health according to the ‘health’ variable?\n",
    "\n",
    "2. Are stewards (steward activity measured by the ‘steward’ variable) having an impact on the health of trees?"
   ]
  },
  {
   "cell_type": "markdown",
   "metadata": {},
   "source": [
    "#### Question 1\n",
    "What proportion of trees are in good, fair, or poor health according to the ‘health’\n",
    "variable?\n",
    "\n",
    "#### Question 2\n",
    "Are stewards (steward activity measured by the ‘steward’ variable) having an impact\n",
    "on the health of trees?"
   ]
  }
 ],
 "metadata": {
  "kernelspec": {
   "display_name": "Python 3 (ipykernel)",
   "language": "python",
   "name": "python3"
  },
  "language_info": {
   "codemirror_mode": {
    "name": "ipython",
    "version": 3
   },
   "file_extension": ".py",
   "mimetype": "text/x-python",
   "name": "python",
   "nbconvert_exporter": "python",
   "pygments_lexer": "ipython3",
   "version": "3.9.5"
  }
 },
 "nbformat": 4,
 "nbformat_minor": 1
}
